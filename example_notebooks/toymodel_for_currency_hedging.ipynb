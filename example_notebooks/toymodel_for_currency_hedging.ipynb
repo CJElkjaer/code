{
 "cells": [
  {
   "cell_type": "code",
   "execution_count": 1,
   "metadata": {},
   "outputs": [
    {
     "data": {
      "text/plain": [
       "'\\nLoad own functions/packages\\n'"
      ]
     },
     "execution_count": 1,
     "metadata": {},
     "output_type": "execute_result"
    }
   ],
   "source": [
    "\"\"\"\n",
    "Magic commands\n",
    "\"\"\"\n",
    "\n",
    "%load_ext autoreload\n",
    "%autoreload 2\n",
    "\n",
    "\"\"\"\n",
    "Load relevant packages\n",
    "\"\"\"\n",
    "\n",
    "import numpy as np\n",
    "import matplotlib.pyplot as plt\n",
    "import seaborn as sns\n",
    "\n",
    "\"\"\"\n",
    "Load own functions/packages\n",
    "\"\"\"\n",
    "\n"
   ]
  },
  {
   "cell_type": "markdown",
   "metadata": {
    "tags": []
   },
   "source": [
    "# Toymodel for Hedging FX Risk\n",
    "\n",
    "## Hedge Portfolio Return"
   ]
  },
  {
   "cell_type": "markdown",
   "metadata": {},
   "source": [
    "__Global Currency Hedging__ Campbell\n",
    "\n",
    "The gross portfolio return for an unhedge exposure is \n",
    "\n",
    "$$\n",
    "R_{t+1}^p =  \\mathbf{R}_{t+1}^\\top \\mathbf{w}_t \\frac{\\mathbf{S}_{t+1}}{\\mathbf{S}_t}\n",
    "$$\n",
    "\n",
    "where $\\mathbf{w}_t = \\text{diag} (w_{1,t},...w_{n,t})$ is $n \\times n$ diagonal matrix of weights on risky assets, $\\mathbf{R}_{t+1}$ is the $(n \\times 1)$ vector of gross nominal returns in local currency and $S_{t+1}$ is a vector of spot exhange rates. The fraction indicates element-by-element division. The weighs are assumed to sum to one. \n",
    "\n",
    "\n",
    "\n",
    "The log-returns on the portfolio can be approximated by\n",
    "\n",
    "$$\n",
    "\\mathbf{r}_t^p = \\mathbf{w}^\\top \\mathbf{r}_t + \\mathbf{m}^\\top \\mathbf{r}^s_t  + \\mathbf{h}^\\top \\text{diag}(M) \\mathbf{r}_t^h\n",
    "$$\n",
    "\n",
    "where \n",
    "\n",
    "- $\\mathbf{r}_t^p$ is the portfolio return\n",
    "- "
   ]
  },
  {
   "cell_type": "markdown",
   "metadata": {
    "tags": []
   },
   "source": [
    "## The optimal hedge ratio"
   ]
  },
  {
   "cell_type": "code",
   "execution_count": null,
   "metadata": {},
   "outputs": [],
   "source": []
  },
  {
   "cell_type": "code",
   "execution_count": null,
   "metadata": {},
   "outputs": [],
   "source": []
  },
  {
   "cell_type": "markdown",
   "metadata": {},
   "source": [
    "$$\n",
    "P_t^U  = P_t S_t\n",
    "$$\n",
    "\n",
    "$$\n",
    "P_t^U/P_{t-1}^U - 1  = \\frac{P_t S_t}{P_{t-1} S_{t-1}} - 1 = \\frac{P_t S_t - P_{t-1} S_{t-1}}{P_{t-1} S_{t-1}}\n",
    "$$"
   ]
  },
  {
   "cell_type": "code",
   "execution_count": null,
   "metadata": {},
   "outputs": [],
   "source": []
  },
  {
   "cell_type": "code",
   "execution_count": 7,
   "metadata": {},
   "outputs": [
    {
     "data": {
      "text/plain": [
       "1.75"
      ]
     },
     "execution_count": 7,
     "metadata": {},
     "output_type": "execute_result"
    }
   ],
   "source": [
    "0.5*1.5 + 0.5*2.0"
   ]
  },
  {
   "cell_type": "code",
   "execution_count": null,
   "metadata": {},
   "outputs": [],
   "source": []
  },
  {
   "cell_type": "code",
   "execution_count": 11,
   "metadata": {},
   "outputs": [],
   "source": [
    "portfolio_info = {'USD_EQ': {'pf_weight':0.5, 'fx_domestic':'USD'},\n",
    "                  'USD_FI': {'pf_weight':0.5, 'fx_domestic':'USD'}}"
   ]
  },
  {
   "cell_type": "code",
   "execution_count": 208,
   "metadata": {},
   "outputs": [
    {
     "data": {
      "text/plain": [
       "array([[ 0.0064 , -0.00288, -0.0048 ],\n",
       "       [-0.00288,  0.0324 , -0.009  ],\n",
       "       [-0.0048 , -0.009  ,  0.01   ]])"
      ]
     },
     "execution_count": 208,
     "metadata": {},
     "output_type": "execute_result"
    }
   ],
   "source": [
    "portfolio_weights = np.array([0.5, 0.5])\n",
    "expected_asset_return = np.array([0.01, 0.05])\n",
    "expected_fx_return = np.array([0.0])\n",
    "expected_return = np.r_[expected_asset_return, expected_fx_return]\n",
    "\n",
    "asset_vols = np.array([0.08, 0.18])\n",
    "fx_vols = np.array([0.1])\n",
    "\n",
    "vols = np.r_[asset_vols, fx_vols]\n",
    "\n",
    "corr = np.array([[1.0, -0.2, -0.6],\n",
    "                 [-0.2, 1.0, -0.5],\n",
    "                 [-0.6, -0.5, 1.0]])\n",
    "\n",
    "cov = np.diag(vols) @ corr @ np.diag(vols)\n",
    "cov"
   ]
  },
  {
   "cell_type": "code",
   "execution_count": 209,
   "metadata": {},
   "outputs": [
    {
     "data": {
      "text/plain": [
       "array([[ 0.0064 , -0.00288, -0.0048 ],\n",
       "       [-0.00288,  0.0324 , -0.009  ],\n",
       "       [-0.0048 , -0.009  ,  0.01   ]])"
      ]
     },
     "execution_count": 209,
     "metadata": {},
     "output_type": "execute_result"
    }
   ],
   "source": [
    "np.outer(vols, vols) * corr"
   ]
  },
  {
   "cell_type": "code",
   "execution_count": 210,
   "metadata": {},
   "outputs": [],
   "source": [
    "random_draws = np.random.multivariate_normal(mean=expected_return, cov=cov, size=49999)"
   ]
  },
  {
   "cell_type": "code",
   "execution_count": 184,
   "metadata": {},
   "outputs": [
    {
     "data": {
      "text/plain": [
       "(49999, 3)"
      ]
     },
     "execution_count": 184,
     "metadata": {},
     "output_type": "execute_result"
    }
   ],
   "source": [
    "random_draws.shape"
   ]
  },
  {
   "cell_type": "code",
   "execution_count": 211,
   "metadata": {},
   "outputs": [],
   "source": [
    "asset_gross_returns = np.exp(random_draws[:, :2]) - 1\n",
    "fx_tot_returns = np.exp(random_draws[:, 2])\n",
    "fx_gross_returns = np.exp(random_draws[:, 2]) - 1"
   ]
  },
  {
   "cell_type": "code",
   "execution_count": 212,
   "metadata": {},
   "outputs": [],
   "source": [
    "hedge_ratios = np.arange(0.0, 1.1, 0.1)"
   ]
  },
  {
   "cell_type": "code",
   "execution_count": 213,
   "metadata": {},
   "outputs": [
    {
     "data": {
      "text/plain": [
       "(49999,)"
      ]
     },
     "execution_count": 213,
     "metadata": {},
     "output_type": "execute_result"
    }
   ],
   "source": [
    "(asset_gross_returns @ portfolio_weights).shape"
   ]
  },
  {
   "cell_type": "code",
   "execution_count": 214,
   "metadata": {},
   "outputs": [
    {
     "data": {
      "text/plain": [
       "array([0.98782651, 0.92755175, 0.94420243, ..., 1.11028319, 1.00078261,\n",
       "       1.13613403])"
      ]
     },
     "execution_count": 214,
     "metadata": {},
     "output_type": "execute_result"
    }
   ],
   "source": [
    "fx_tot_returns"
   ]
  },
  {
   "cell_type": "code",
   "execution_count": 215,
   "metadata": {},
   "outputs": [],
   "source": [
    "hedge_ratio = 1.0\n",
    "carry = -0.0\n",
    "\n",
    "unhedged_gross_return = (1 + asset_gross_returns) @ portfolio_weights * fx_tot_returns - 1\n",
    "\n",
    "hedged_gross_return = (1+asset_gross_returns) @ portfolio_weights * fx_tot_returns - hedge_ratio * fx_tot_returns + hedge_ratio * np.exp(carry)  - 1.0"
   ]
  },
  {
   "cell_type": "code",
   "execution_count": 216,
   "metadata": {},
   "outputs": [
    {
     "data": {
      "text/plain": [
       "<AxesSubplot:ylabel='Density'>"
      ]
     },
     "execution_count": 216,
     "metadata": {},
     "output_type": "execute_result"
    },
    {
     "data": {
      "image/png": "[encoded data removed]",
      "text/plain": [
       "<Figure size 432x288 with 1 Axes>"
      ]
     },
     "metadata": {
      "needs_background": "light"
     },
     "output_type": "display_data"
    }
   ],
   "source": [
    "sns.kdeplot(unhedged_gross_return, color=\"blue\")\n",
    "sns.kdeplot(hedged_gross_return, color=\"red\")"
   ]
  },
  {
   "cell_type": "code",
   "execution_count": 217,
   "metadata": {},
   "outputs": [],
   "source": [
    "list_std = list()\n",
    "list_var = list()\n",
    "list_exp_ret = list()\n",
    "\n",
    "for h in hedge_ratios: \n",
    "    \n",
    "    hedged_gross_return = (1+asset_gross_returns) @ portfolio_weights * fx_tot_returns - h * fx_tot_returns + h * np.exp(carry)  - 1.0\n",
    "    \n",
    "    list_exp_ret.append(np.average(hedged_gross_return))\n",
    "    list_std.append(np.std(hedged_gross_return))\n",
    "    list_var.append(np.percentile(hedged_gross_return, 5))\n",
    "    "
   ]
  },
  {
   "cell_type": "code",
   "execution_count": 218,
   "metadata": {},
   "outputs": [
    {
     "data": {
      "text/plain": [
       "Text(0, 0.5, 'Standard deviation')"
      ]
     },
     "execution_count": 218,
     "metadata": {},
     "output_type": "execute_result"
    },
    {
     "data": {
      "image/png": "[encoded data removed]",
      "text/plain": [
       "<Figure size 432x288 with 1 Axes>"
      ]
     },
     "metadata": {
      "needs_background": "light"
     },
     "output_type": "display_data"
    }
   ],
   "source": [
    "fig, ax = plt.subplots()\n",
    "\n",
    "plt.plot(list_exp_ret, list_std, color=\"blue\", linestyle=\"-\", marker=\"o\") \n",
    "plt.xlabel('Expected return')\n",
    "plt.ylabel('Standard deviation')"
   ]
  },
  {
   "cell_type": "code",
   "execution_count": 219,
   "metadata": {},
   "outputs": [
    {
     "data": {
      "image/png": "[encoded data removed]",
      "text/plain": [
       "<Figure size 432x288 with 1 Axes>"
      ]
     },
     "metadata": {
      "needs_background": "light"
     },
     "output_type": "display_data"
    }
   ],
   "source": [
    "fig, ax = plt.subplots()\n",
    "\n",
    "plt.plot(list_exp_ret, list_var, color=\"blue\", linestyle=\"-\", marker=\"o\") \n",
    "plt.xlabel('Expected return')\n",
    "plt.ylabel('VaR(95%)');"
   ]
  },
  {
   "cell_type": "markdown",
   "metadata": {},
   "source": [
    "## References\n",
    "\n",
    "https://www-nber-org.esc-web.lib.cbs.dk:8443/system/files/working_papers/w13088/w13088.pdf\n",
    "\n",
    "\n",
    "https://pubsonline-informs-org.esc-web.lib.cbs.dk:8443/doi/pdf/10.1287/mnsc.2020.3872"
   ]
  },
  {
   "cell_type": "markdown",
   "metadata": {},
   "source": [
    "# Appendix\n",
    "\n",
    "## Hedged Portfolio Return\n",
    "\n",
    "The gross portfolio return for an unhedged exposure is \n",
    "\n",
    "$$\n",
    "R_{t+1}^{uh} =  \\mathbf{R}_{t+1}^\\top \\mathbf{w}_t \\frac{\\mathbf{S}_{t+1}}{\\mathbf{S}_t}\n",
    "$$\n",
    "\n",
    "where $\\mathbf{w}_t = \\text{diag} (w_{1,t},...w_{n,t})$ is $n \\times n$ diagonal matrix of weights on risky assets, $\\mathbf{R}_{t+1}$ is the $(n \\times 1)$ vector of gross nominal returns in local currency and $S_{t+1}$ is a vector of spot exhange rates. The fraction indicates element-by-element division. The weighs are assumed to sum to one. \n",
    "\n",
    "If the investor hedges with forward exchange rate contracts, the hedged portfolio return can be written as \n",
    "\n",
    "$$\n",
    "R_{t+1}^{h} =  \\mathbf{R}_{t+1}^\\top \\mathbf{w}_t \\frac{\\mathbf{S}_{t+1}}{\\mathbf{S}_t}\n",
    "+ \\mathbf{h}^\\top \\frac{\\mathbf{F}_t - \\mathbf{S}_{t+1}}{\\mathbf{S}_t} = \\mathbf{R}_{t+1}^\\top \\mathbf{w}_t \\frac{\\mathbf{S}_{t+1}}{\\mathbf{S}_t}\n",
    "+ \\mathbf{h}^\\top \\frac{\\mathbf{F_t}}{\\mathbf{S}_t} - \\mathbf{h}^\\top \\frac{\\mathbf{S}_{t+1}}{\\mathbf{S}_t} \n",
    "$$\n",
    "\n",
    "where $\\mathbf{h}$ is a vector of hedge ratios. "
   ]
  },
  {
   "cell_type": "markdown",
   "metadata": {},
   "source": [
    "### Log portfolio returns over short time intervals\n",
    "\n",
    "We assume that the assets and the exchange rates follow geometric Browninan motions\n",
    "\n",
    "$$\n",
    "\\begin{align}\n",
    "\\frac{dP_t}{P_t} &= \\mu_p + \\sigma_p dZ_t^p \\\\\n",
    "\\frac{dS_t}{S_t} &= \\mu_s + \\sigma_s dZ_t^s\n",
    "\\end{align}\n",
    "$$\n",
    "\n",
    "Using Ito's lemma, we obtain\n",
    "\n",
    "$$\n",
    "\\begin{align}\n",
    "d\\log P_t &= \\frac{dP_t}{P_t} - \\frac{1}{2}\\sigma_p^2 dt \\\\\n",
    "d\\log S_t &= \\frac{dS_t}{S_t} - \\frac{1}{2}\\sigma_s^2 dt \n",
    "\\end{align}\n",
    "$$\n",
    "\n",
    "It is possible to show that \n",
    "\n",
    "$$\n",
    "\\begin{align}\n",
    "\\frac{dP_tS_t}{P_t S_t} &= \\frac{dP_t}{P_t} + \\frac{dS_t}{S_t} + \\sigma_p \\sigma_s \\rho_{s,p} dt \\\\\n",
    "&= d\\log P_t + d \\log S_t + \\frac{1}{2}\\text{Var} (d\\log P + d \\log S) dt\n",
    "\\end{align}\n",
    "$$\n",
    "\n",
    "The log-return of the portfolio is given by\n",
    "\n",
    "$$\n",
    "d \\log V_t = \\frac{dV_t}{V_t} - \\frac{1}{2} \\left( \\frac{dV_t}{V_t}\\right)^2\n",
    "$$\n",
    "\n",
    "The first term is given by\n",
    "\n",
    "$$\n",
    "\\begin{align}\n",
    "\\frac{dV_t}{V_t} &= \\mathbf{1}^\\top\\mathbf{w} (\\mathbf{r}_{t+1} + \\mathbf{s}_{t+1}) - \\mathbf{h}_t^\\top (\\mathbf{s_{t+1}} - \\mathbf{f_t})  \\\\ \n",
    "& + \\frac{1}{2} \\left[ \\mathbf{1}^\\top\\mathbf{w} \\text{diag} (\\text{Var} (\\mathbf{r}_{t+1} + \\mathbf{s}_{t+1})) -  \\mathbf{h}_t^\\top \\text{diag} (\\text{Var}(\\mathbf{s_{t+1}})) \\right]dt\n",
    "\\end{align}\n",
    "$$\n",
    "\n",
    "The second term is given by\n",
    "\n",
    "$$\n",
    "\\begin{align}\n",
    "\\left( \\frac{dV_t}{V_t}\\right)^2 &= \\text{Var} \\left[\\mathbf{1}^\\top\\mathbf{w} (\\mathbf{r}_{t+1} + \\mathbf{s}_{t+1}) - \\mathbf{h}_t^\\top (\\mathbf{s_{t+1}} - \\mathbf{f_t})\\right] dt + o(dt)  \\\\\n",
    "&=\\text{Var} \\left[\\mathbf{1}^\\top\\mathbf{w} (\\mathbf{r}_{t+1} + \\mathbf{s}_{t+1}) - \\mathbf{h}_t^\\top \\mathbf{s_{t+1}}\\right] dt + o(dt)\n",
    "\\end{align}\n",
    "$$\n",
    "\n",
    "Combining the expressions yields, \n",
    "\n",
    "$$\n",
    "\\begin{align}\n",
    "d \\log V_t &= \\mathbf{1}^\\top\\mathbf{w} (\\mathbf{r}_{t+1} + \\mathbf{s}_{t+1}) - \\mathbf{h}_t^\\top (\\mathbf{s_{t+1}} - \\mathbf{f_t})  \\\\ \n",
    "& + \\frac{1}{2} \\left[ \\mathbf{1}^\\top\\mathbf{w} \\text{diag} (\\text{Var} (\\mathbf{r}_{t+1} + \\mathbf{s}_{t+1})) -  \\mathbf{h}_t^\\top \\text{diag} (\\text{Var}(\\mathbf{s_{t+1}})) \\right]dt \\\\\n",
    "&- \\frac{1}{2}\\text{Var} \\left[\\mathbf{1}^\\top\\mathbf{w} (\\mathbf{r}_{t+1} + \\mathbf{s}_{t+1}) - \\mathbf{h}_t^\\top \\mathbf{s_{t+1}}\\right] dt\n",
    "\\end{align}\n",
    "$$\n"
   ]
  }
 ],
 "metadata": {
  "kernelspec": {
   "display_name": "python_for_fin_econ",
   "language": "python",
   "name": "python_for_fin_econ"
  },
  "language_info": {
   "codemirror_mode": {
    "name": "ipython",
    "version": 3
   },
   "file_extension": ".py",
   "mimetype": "text/x-python",
   "name": "python",
   "nbconvert_exporter": "python",
   "pygments_lexer": "ipython3",
   "version": "3.8.6"
  }
 },
 "nbformat": 4,
 "nbformat_minor": 4
}
