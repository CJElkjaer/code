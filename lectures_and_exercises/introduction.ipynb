{
 "cells": [
  {
   "cell_type": "markdown",
   "id": "sustainable-funds",
   "metadata": {},
   "source": [
    "# Introduction to Python for the Financial Economist"
   ]
  },
  {
   "cell_type": "code",
   "execution_count": null,
   "id": "disturbed-serum",
   "metadata": {},
   "outputs": [],
   "source": []
  },
  {
   "cell_type": "code",
   "execution_count": null,
   "id": "fantastic-lender",
   "metadata": {},
   "outputs": [],
   "source": []
  },
  {
   "cell_type": "code",
   "execution_count": null,
   "id": "green-tractor",
   "metadata": {},
   "outputs": [],
   "source": []
  },
  {
   "cell_type": "markdown",
   "id": "ahead-rebound",
   "metadata": {},
   "source": [
    "## Course overview"
   ]
  },
  {
   "cell_type": "markdown",
   "id": "informed-genome",
   "metadata": {},
   "source": [
    "### Week 1: Financial data\n",
    "\n",
    "returns\n",
    "\n",
    "distributions\n",
    "\n",
    "the quest for invariance\n",
    "\n",
    "estimation\n",
    "\n",
    "\n",
    "risk measures\n",
    "\n",
    "\n",
    "Bootstrapping"
   ]
  },
  {
   "cell_type": "markdown",
   "id": "behavioral-racing",
   "metadata": {},
   "source": []
  },
  {
   "cell_type": "code",
   "execution_count": null,
   "id": "alert-rhythm",
   "metadata": {},
   "outputs": [],
   "source": []
  },
  {
   "cell_type": "code",
   "execution_count": null,
   "id": "assured-increase",
   "metadata": {},
   "outputs": [],
   "source": []
  },
  {
   "cell_type": "code",
   "execution_count": null,
   "id": "rubber-massachusetts",
   "metadata": {},
   "outputs": [],
   "source": []
  },
  {
   "cell_type": "markdown",
   "id": "fifty-method",
   "metadata": {},
   "source": [
    "# Exam\n",
    "\n",
    "The exam will consist of a two week project where students apply the coding skill and financial knowledge learned in the course  to a specific problem. "
   ]
  }
 ],
 "metadata": {
  "kernelspec": {
   "display_name": "python_for_fin_econ",
   "language": "python",
   "name": "python_for_fin_econ"
  },
  "language_info": {
   "codemirror_mode": {
    "name": "ipython",
    "version": 3
   },
   "file_extension": ".py",
   "mimetype": "text/x-python",
   "name": "python",
   "nbconvert_exporter": "python",
   "pygments_lexer": "ipython3",
   "version": "3.8.6"
  }
 },
 "nbformat": 4,
 "nbformat_minor": 5
}
