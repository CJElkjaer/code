{
 "cells": [
  {
   "cell_type": "markdown",
   "id": "sustainable-funds",
   "metadata": {},
   "source": [
    "# Introduction to Python for the Financial Economist"
   ]
  },
  {
   "cell_type": "markdown",
   "id": "referenced-draft",
   "metadata": {},
   "source": [
    "## Course objective\n",
    "\n",
    "The aim of this course is to enable students to implement financial models using realistic data. Several topics in financial economics will be covered and the students will at the end of the course be able to independently implement financial models from scratch in Python. This will be highly relevant when writing academic papers (master thesis) and/or working in the financial industry.\n",
    "\n",
    "The students will learn Python by solving a range of different problems in financial economics. This includes implementation of different models from academic research papers.\n",
    "\n",
    "My hope is to help students prepare for the often tedious programming tasks involved when writing their master theses. "
   ]
  },
  {
   "cell_type": "markdown",
   "id": "ahead-rebound",
   "metadata": {},
   "source": [
    "## Course overview"
   ]
  },
  {
   "cell_type": "markdown",
   "id": "worldwide-moment",
   "metadata": {},
   "source": [
    "### Week 1: Heads on with Python\n",
    "\n",
    "The first week will include\n",
    "\n",
    "* An introduction to the tools used (Pycharm, Jupyter notebooks, Github, etc.) and how to get started\n",
    "* An introduction to Python (DataCamp)\n",
    "* Examples and exercises using the `numpy` package to perform matrix and vector calculations\n",
    "\n"
   ]
  },
  {
   "cell_type": "markdown",
   "id": "informed-genome",
   "metadata": {},
   "source": [
    "### Week 2: Financial data\n",
    "\n",
    "We will focus on relevant data sets used in the course, i.e. how to get datasets directly into our Jupyter notebooks or script in Pycharm. \n",
    "\n",
    "Besides this, week 2 will include\n",
    "\n",
    "* An introduction to Matplotlib (DataCamp)\n",
    "* Discussion of how to model financial markets\n",
    "* Examples and exercises\n"
   ]
  },
  {
   "cell_type": "markdown",
   "id": "breeding-camel",
   "metadata": {},
   "source": [
    "### Week 3: Something about distributions\n",
    "\n",
    "We will focus on univariate and multivariate statistics using the subpackage `scipy.stats` of `scipy`. We will cover \n",
    "\n",
    "* Random variables..."
   ]
  },
  {
   "cell_type": "markdown",
   "id": "czech-psychiatry",
   "metadata": {},
   "source": [
    "\n",
    "\n",
    "distributions\n",
    "\n",
    "\n",
    "\n",
    "estimation\n",
    "\n",
    "\n",
    "risk measures\n",
    "\n",
    "\n",
    "Bootstrapping"
   ]
  },
  {
   "cell_type": "markdown",
   "id": "determined-garage",
   "metadata": {},
   "source": [
    "### Week 4: Estimation\n",
    "\n",
    "We will focus on univariate and multivariate statistics using the subpackage `scipy.stats` of `scipy`. We will cover \n",
    "\n",
    "* Random variables..."
   ]
  },
  {
   "cell_type": "code",
   "execution_count": null,
   "id": "instant-examination",
   "metadata": {},
   "outputs": [],
   "source": []
  },
  {
   "cell_type": "code",
   "execution_count": null,
   "id": "crude-sword",
   "metadata": {},
   "outputs": [],
   "source": []
  },
  {
   "cell_type": "code",
   "execution_count": null,
   "id": "faced-advocacy",
   "metadata": {},
   "outputs": [],
   "source": []
  },
  {
   "cell_type": "markdown",
   "id": "behavioral-racing",
   "metadata": {},
   "source": [
    "### Week X-Y: Term structure of interest rates"
   ]
  },
  {
   "cell_type": "markdown",
   "id": "opened-exhibit",
   "metadata": {},
   "source": [
    "### Week X-Y: Robust portfolio optimization"
   ]
  },
  {
   "cell_type": "markdown",
   "id": "pressed-effort",
   "metadata": {},
   "source": [
    "### Week X-Y: Financial market volatility"
   ]
  },
  {
   "cell_type": "code",
   "execution_count": null,
   "id": "rubber-massachusetts",
   "metadata": {},
   "outputs": [],
   "source": []
  },
  {
   "cell_type": "markdown",
   "id": "potential-demonstration",
   "metadata": {},
   "source": [
    "# Literature\n",
    "\n",
    "There will not be any required literature...\n",
    "\n",
    "Relevant literature that has inspired ...\n"
   ]
  },
  {
   "cell_type": "markdown",
   "id": "fifty-method",
   "metadata": {},
   "source": [
    "# Exam\n",
    "\n",
    "The exam will consist of a two week project where students apply the coding skill and financial knowledge learned in the course  to a specific problem. "
   ]
  },
  {
   "cell_type": "markdown",
   "id": "legendary-crystal",
   "metadata": {},
   "source": [
    "## List of symbols, etc. "
   ]
  },
  {
   "cell_type": "code",
   "execution_count": null,
   "id": "colonial-bulletin",
   "metadata": {},
   "outputs": [],
   "source": []
  }
 ],
 "metadata": {
  "kernelspec": {
   "display_name": "python_for_fin_econ",
   "language": "python",
   "name": "python_for_fin_econ"
  },
  "language_info": {
   "codemirror_mode": {
    "name": "ipython",
    "version": 3
   },
   "file_extension": ".py",
   "mimetype": "text/x-python",
   "name": "python",
   "nbconvert_exporter": "python",
   "pygments_lexer": "ipython3",
   "version": "3.8.6"
  }
 },
 "nbformat": 4,
 "nbformat_minor": 5
}
